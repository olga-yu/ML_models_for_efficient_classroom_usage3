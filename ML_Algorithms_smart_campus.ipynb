{
  "nbformat": 4,
  "nbformat_minor": 0,
  "metadata": {
    "colab": {
      "provenance": [],
      "authorship_tag": "ABX9TyN3w8SHGBQpGQZXLAVhv0Fm",
      "include_colab_link": true
    },
    "kernelspec": {
      "name": "python3",
      "display_name": "Python 3"
    },
    "language_info": {
      "name": "python"
    }
  },
  "cells": [
    {
      "cell_type": "markdown",
      "metadata": {
        "id": "view-in-github",
        "colab_type": "text"
      },
      "source": [
        "<a href=\"https://colab.research.google.com/github/olga-yu/ML_models_for_efficient_classroom_usage3/blob/master/ML_Algorithms_smart_campus.ipynb\" target=\"_parent\"><img src=\"https://colab.research.google.com/assets/colab-badge.svg\" alt=\"Open In Colab\"/></a>"
      ]
    },
    {
      "cell_type": "code",
      "execution_count": null,
      "metadata": {
        "id": "ixPSXoOVeMqO"
      },
      "outputs": [],
      "source": []
    },
    {
      "cell_type": "code",
      "source": [
        "from sklearn.ensemble import RandomForestClassifier\n",
        "from sklearn.model_selection import train_test_split\n",
        "from sklearn.preprocessing import OneHotEncoder\n",
        "import numpy as np\n",
        "import pandas as pd\n",
        "\n",
        "# Load your dataset\n",
        "dataset = pd.read_csv('processed_motionData2025_3.csv')\n",
        "\n",
        "# Select features (X) and target variable (y)\n",
        "X = dataset[[\"StudentID\", \"TimePeriod\", 'date-year', 'date-month', 'date-day', 'Season', 'Weekday', 'Semester']]\n",
        "y = dataset['sensor_mo.mean']  # Ensure this column contains 0s and 1s\n",
        "\n",
        "# Split dataset into training and testing sets\n",
        "X_train, X_test, y_train, y_test = train_test_split(X, y, test_size=0.2, random_state=42)\n",
        "\n",
        "# Train Random Forest with the best class weight found earlier\n",
        "rf = RandomForestClassifier(n_estimators=100, class_weight={0: 1, 1: 3}, random_state=42)\n",
        "rf.fit(X_train, y_train)\n",
        "\n",
        "# Extract leaf indices\n",
        "X_train_leaves = rf.apply(X_train)  # Get leaf indices for training\n",
        "X_test_leaves = rf.apply(X_test)  # Get leaf indices for testing\n",
        "\n",
        "# One-hot encode the leaf indices\n",
        "encoder = OneHotEncoder()\n",
        "X_train_encoded = encoder.fit_transform(X_train_leaves).toarray()\n",
        "X_test_encoded = encoder.transform(X_test_leaves).toarray()\n",
        "\n",
        "# Combine original features with Random Forest leaf features\n",
        "X_train_combined = np.hstack([X_train, X_train_encoded])\n",
        "X_test_combined = np.hstack([X_test, X_test_encoded])\n",
        "\n",
        "print(\"✅ Random Forest leaf features added. Shape:\", X_train_combined.shape)\n",
        "\n",
        "import tensorflow as tf\n",
        "from tensorflow.keras.models import Sequential\n",
        "from tensorflow.keras.layers import Dense, Dropout\n",
        "\n",
        "# Define Neural Network\n",
        "model = Sequential([\n",
        "    Dense(128, activation='relu', input_shape=(X_train_combined.shape[1],)),\n",
        "    Dropout(0.3),\n",
        "    Dense(64, activation='relu'),\n",
        "    Dense(1, activation='sigmoid')  # Binary classification output\n",
        "])\n",
        "\n",
        "# Compile model\n",
        "model.compile(optimizer='adam', loss='binary_crossentropy', metrics=['AUC'])\n",
        "\n",
        "# Train model\n",
        "model.fit(X_train_combined, y_train, validation_data=(X_test_combined, y_test), epochs=20, batch_size=32)\n",
        "\n",
        "from sklearn.metrics import accuracy_score, precision_score, recall_score, f1_score, roc_auc_score\n",
        "\n",
        "# Predict probabilities and labels\n",
        "y_prob_nn = model.predict(X_test_combined).flatten()\n",
        "y_pred_nn = (y_prob_nn > 0.5).astype(int)  # Convert probabilities to binary labels\n",
        "\n",
        "# Calculate performance metrics\n",
        "final_accuracy = accuracy_score(y_test, y_pred_nn)\n",
        "final_precision = precision_score(y_test, y_pred_nn)\n",
        "final_recall = recall_score(y_test, y_pred_nn)\n",
        "final_f1 = f1_score(y_test, y_pred_nn)\n",
        "final_roc_auc = roc_auc_score(y_test, y_prob_nn)\n",
        "\n",
        "# Print final results\n",
        "print(\"\\n📌 **Final Hybrid Model Performance (RF + NN):**\")\n",
        "print(f\"✅ Accuracy: {final_accuracy:.2f}\")\n",
        "print(f\"✅ Precision: {final_precision:.2f}\")\n",
        "print(f\"✅ Recall: {final_recall:.2f}\")\n",
        "print(f\"✅ F1-score: {final_f1:.2f}\")\n",
        "print(f\"🚀 ROC-AUC: {final_roc_auc:.3f}\")  # This should be better than RF alone!\n",
        "\n"
      ],
      "metadata": {
        "colab": {
          "base_uri": "https://localhost:8080/"
        },
        "id": "LbfKEXxveOnM",
        "outputId": "56255cf1-8f67-40be-d303-e97ab626fb44"
      },
      "execution_count": 4,
      "outputs": [
        {
          "output_type": "stream",
          "name": "stdout",
          "text": [
            "✅ Random Forest leaf features added. Shape: (4320, 21536)\n"
          ]
        },
        {
          "output_type": "stream",
          "name": "stderr",
          "text": [
            "/usr/local/lib/python3.11/dist-packages/keras/src/layers/core/dense.py:87: UserWarning: Do not pass an `input_shape`/`input_dim` argument to a layer. When using Sequential models, prefer using an `Input(shape)` object as the first layer in the model instead.\n",
            "  super().__init__(activity_regularizer=activity_regularizer, **kwargs)\n"
          ]
        },
        {
          "output_type": "stream",
          "name": "stdout",
          "text": [
            "Epoch 1/20\n",
            "\u001b[1m135/135\u001b[0m \u001b[32m━━━━━━━━━━━━━━━━━━━━\u001b[0m\u001b[37m\u001b[0m \u001b[1m5s\u001b[0m 27ms/step - AUC: 0.4982 - loss: 1.8470 - val_AUC: 0.5810 - val_loss: 0.5099\n",
            "Epoch 2/20\n",
            "\u001b[1m135/135\u001b[0m \u001b[32m━━━━━━━━━━━━━━━━━━━━\u001b[0m\u001b[37m\u001b[0m \u001b[1m5s\u001b[0m 23ms/step - AUC: 0.5211 - loss: 0.5502 - val_AUC: 0.5445 - val_loss: 0.5400\n",
            "Epoch 3/20\n",
            "\u001b[1m135/135\u001b[0m \u001b[32m━━━━━━━━━━━━━━━━━━━━\u001b[0m\u001b[37m\u001b[0m \u001b[1m5s\u001b[0m 22ms/step - AUC: 0.5628 - loss: 0.5397 - val_AUC: 0.5493 - val_loss: 0.5145\n",
            "Epoch 4/20\n",
            "\u001b[1m135/135\u001b[0m \u001b[32m━━━━━━━━━━━━━━━━━━━━\u001b[0m\u001b[37m\u001b[0m \u001b[1m3s\u001b[0m 25ms/step - AUC: 0.5692 - loss: 0.5373 - val_AUC: 0.5201 - val_loss: 0.5283\n",
            "Epoch 5/20\n",
            "\u001b[1m135/135\u001b[0m \u001b[32m━━━━━━━━━━━━━━━━━━━━\u001b[0m\u001b[37m\u001b[0m \u001b[1m3s\u001b[0m 24ms/step - AUC: 0.5816 - loss: 0.5235 - val_AUC: 0.5393 - val_loss: 0.5313\n",
            "Epoch 6/20\n",
            "\u001b[1m135/135\u001b[0m \u001b[32m━━━━━━━━━━━━━━━━━━━━\u001b[0m\u001b[37m\u001b[0m \u001b[1m5s\u001b[0m 22ms/step - AUC: 0.6177 - loss: 0.5203 - val_AUC: 0.5447 - val_loss: 0.5358\n",
            "Epoch 7/20\n",
            "\u001b[1m135/135\u001b[0m \u001b[32m━━━━━━━━━━━━━━━━━━━━\u001b[0m\u001b[37m\u001b[0m \u001b[1m5s\u001b[0m 23ms/step - AUC: 0.5790 - loss: 0.5195 - val_AUC: 0.5443 - val_loss: 0.5213\n",
            "Epoch 8/20\n",
            "\u001b[1m135/135\u001b[0m \u001b[32m━━━━━━━━━━━━━━━━━━━━\u001b[0m\u001b[37m\u001b[0m \u001b[1m3s\u001b[0m 22ms/step - AUC: 0.6173 - loss: 0.4980 - val_AUC: 0.5457 - val_loss: 0.5274\n",
            "Epoch 9/20\n",
            "\u001b[1m135/135\u001b[0m \u001b[32m━━━━━━━━━━━━━━━━━━━━\u001b[0m\u001b[37m\u001b[0m \u001b[1m6s\u001b[0m 27ms/step - AUC: 0.6395 - loss: 0.4887 - val_AUC: 0.5641 - val_loss: 0.5306\n",
            "Epoch 10/20\n",
            "\u001b[1m135/135\u001b[0m \u001b[32m━━━━━━━━━━━━━━━━━━━━\u001b[0m\u001b[37m\u001b[0m \u001b[1m4s\u001b[0m 22ms/step - AUC: 0.6251 - loss: 0.5080 - val_AUC: 0.5719 - val_loss: 0.5116\n",
            "Epoch 11/20\n",
            "\u001b[1m135/135\u001b[0m \u001b[32m━━━━━━━━━━━━━━━━━━━━\u001b[0m\u001b[37m\u001b[0m \u001b[1m3s\u001b[0m 22ms/step - AUC: 0.6271 - loss: 0.5017 - val_AUC: 0.5564 - val_loss: 0.5141\n",
            "Epoch 12/20\n",
            "\u001b[1m135/135\u001b[0m \u001b[32m━━━━━━━━━━━━━━━━━━━━\u001b[0m\u001b[37m\u001b[0m \u001b[1m5s\u001b[0m 22ms/step - AUC: 0.6230 - loss: 0.5175 - val_AUC: 0.5625 - val_loss: 0.5173\n",
            "Epoch 13/20\n",
            "\u001b[1m135/135\u001b[0m \u001b[32m━━━━━━━━━━━━━━━━━━━━\u001b[0m\u001b[37m\u001b[0m \u001b[1m5s\u001b[0m 22ms/step - AUC: 0.6428 - loss: 0.5064 - val_AUC: 0.5455 - val_loss: 0.5277\n",
            "Epoch 14/20\n",
            "\u001b[1m135/135\u001b[0m \u001b[32m━━━━━━━━━━━━━━━━━━━━\u001b[0m\u001b[37m\u001b[0m \u001b[1m3s\u001b[0m 26ms/step - AUC: 0.6418 - loss: 0.4961 - val_AUC: 0.5611 - val_loss: 0.5211\n",
            "Epoch 15/20\n",
            "\u001b[1m135/135\u001b[0m \u001b[32m━━━━━━━━━━━━━━━━━━━━\u001b[0m\u001b[37m\u001b[0m \u001b[1m3s\u001b[0m 23ms/step - AUC: 0.6398 - loss: 0.5021 - val_AUC: 0.5670 - val_loss: 0.5163\n",
            "Epoch 16/20\n",
            "\u001b[1m135/135\u001b[0m \u001b[32m━━━━━━━━━━━━━━━━━━━━\u001b[0m\u001b[37m\u001b[0m \u001b[1m3s\u001b[0m 21ms/step - AUC: 0.6237 - loss: 0.5063 - val_AUC: 0.5661 - val_loss: 0.5225\n",
            "Epoch 17/20\n",
            "\u001b[1m135/135\u001b[0m \u001b[32m━━━━━━━━━━━━━━━━━━━━\u001b[0m\u001b[37m\u001b[0m \u001b[1m6s\u001b[0m 26ms/step - AUC: 0.6506 - loss: 0.5046 - val_AUC: 0.5623 - val_loss: 0.5343\n",
            "Epoch 18/20\n",
            "\u001b[1m135/135\u001b[0m \u001b[32m━━━━━━━━━━━━━━━━━━━━\u001b[0m\u001b[37m\u001b[0m \u001b[1m4s\u001b[0m 27ms/step - AUC: 0.6324 - loss: 0.5062 - val_AUC: 0.5580 - val_loss: 0.5184\n",
            "Epoch 19/20\n",
            "\u001b[1m135/135\u001b[0m \u001b[32m━━━━━━━━━━━━━━━━━━━━\u001b[0m\u001b[37m\u001b[0m \u001b[1m3s\u001b[0m 21ms/step - AUC: 0.6481 - loss: 0.4954 - val_AUC: 0.5551 - val_loss: 0.5254\n",
            "Epoch 20/20\n",
            "\u001b[1m135/135\u001b[0m \u001b[32m━━━━━━━━━━━━━━━━━━━━\u001b[0m\u001b[37m\u001b[0m \u001b[1m3s\u001b[0m 22ms/step - AUC: 0.6307 - loss: 0.5018 - val_AUC: 0.5596 - val_loss: 0.5193\n",
            "\u001b[1m34/34\u001b[0m \u001b[32m━━━━━━━━━━━━━━━━━━━━\u001b[0m\u001b[37m\u001b[0m \u001b[1m0s\u001b[0m 5ms/step\n",
            "\n",
            "📌 **Final Hybrid Model Performance (RF + NN):**\n",
            "✅ Accuracy: 0.79\n",
            "✅ Precision: 0.79\n",
            "✅ Recall: 1.00\n",
            "✅ F1-score: 0.88\n",
            "🚀 ROC-AUC: 0.560\n"
          ]
        }
      ]
    },
    {
      "cell_type": "code",
      "source": [],
      "metadata": {
        "id": "648kHxTCeTjb"
      },
      "execution_count": null,
      "outputs": []
    }
  ]
}